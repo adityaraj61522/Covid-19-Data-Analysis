{
 "cells": [
  {
   "cell_type": "markdown",
   "id": "8465af62",
   "metadata": {},
   "source": [
    "Importing Packages"
   ]
  },
  {
   "cell_type": "code",
   "execution_count": 1,
   "id": "429b6646",
   "metadata": {},
   "outputs": [],
   "source": [
    "import pandas as pd\n",
    "import  numpy as np\n",
    "import seaborn as sns\n",
    "import matplotlib.pyplot as plt\n",
    "from ipywidgets import interact"
   ]
  },
  {
   "cell_type": "markdown",
   "id": "005d7a96",
   "metadata": {},
   "source": [
    "Importing Data-Set"
   ]
  },
  {
   "cell_type": "code",
   "execution_count": 2,
   "id": "61f50179",
   "metadata": {},
   "outputs": [],
   "source": [
    "data=pd.read_csv(r\"./covid_19_india.csv\")"
   ]
  },
  {
   "cell_type": "markdown",
   "id": "3ca1d9b0",
   "metadata": {},
   "source": [
    "Checking for Data Format"
   ]
  },
  {
   "cell_type": "code",
   "execution_count": 3,
   "id": "bb9f9f13",
   "metadata": {},
   "outputs": [
    {
     "data": {
      "text/html": [
       "<div>\n",
       "<style scoped>\n",
       "    .dataframe tbody tr th:only-of-type {\n",
       "        vertical-align: middle;\n",
       "    }\n",
       "\n",
       "    .dataframe tbody tr th {\n",
       "        vertical-align: top;\n",
       "    }\n",
       "\n",
       "    .dataframe thead th {\n",
       "        text-align: right;\n",
       "    }\n",
       "</style>\n",
       "<table border=\"1\" class=\"dataframe\">\n",
       "  <thead>\n",
       "    <tr style=\"text-align: right;\">\n",
       "      <th></th>\n",
       "      <th>Sno</th>\n",
       "      <th>Date</th>\n",
       "      <th>Time</th>\n",
       "      <th>State/UnionTerritory</th>\n",
       "      <th>ConfirmedIndianNational</th>\n",
       "      <th>ConfirmedForeignNational</th>\n",
       "      <th>Cured</th>\n",
       "      <th>Deaths</th>\n",
       "      <th>Confirmed</th>\n",
       "    </tr>\n",
       "  </thead>\n",
       "  <tbody>\n",
       "    <tr>\n",
       "      <th>0</th>\n",
       "      <td>1</td>\n",
       "      <td>2020-01-30</td>\n",
       "      <td>6:00 PM</td>\n",
       "      <td>Kerala</td>\n",
       "      <td>1</td>\n",
       "      <td>0</td>\n",
       "      <td>0</td>\n",
       "      <td>0</td>\n",
       "      <td>1</td>\n",
       "    </tr>\n",
       "    <tr>\n",
       "      <th>1</th>\n",
       "      <td>2</td>\n",
       "      <td>2020-01-31</td>\n",
       "      <td>6:00 PM</td>\n",
       "      <td>Kerala</td>\n",
       "      <td>1</td>\n",
       "      <td>0</td>\n",
       "      <td>0</td>\n",
       "      <td>0</td>\n",
       "      <td>1</td>\n",
       "    </tr>\n",
       "    <tr>\n",
       "      <th>2</th>\n",
       "      <td>3</td>\n",
       "      <td>2020-02-01</td>\n",
       "      <td>6:00 PM</td>\n",
       "      <td>Kerala</td>\n",
       "      <td>2</td>\n",
       "      <td>0</td>\n",
       "      <td>0</td>\n",
       "      <td>0</td>\n",
       "      <td>2</td>\n",
       "    </tr>\n",
       "    <tr>\n",
       "      <th>3</th>\n",
       "      <td>4</td>\n",
       "      <td>2020-02-02</td>\n",
       "      <td>6:00 PM</td>\n",
       "      <td>Kerala</td>\n",
       "      <td>3</td>\n",
       "      <td>0</td>\n",
       "      <td>0</td>\n",
       "      <td>0</td>\n",
       "      <td>3</td>\n",
       "    </tr>\n",
       "    <tr>\n",
       "      <th>4</th>\n",
       "      <td>5</td>\n",
       "      <td>2020-02-03</td>\n",
       "      <td>6:00 PM</td>\n",
       "      <td>Kerala</td>\n",
       "      <td>3</td>\n",
       "      <td>0</td>\n",
       "      <td>0</td>\n",
       "      <td>0</td>\n",
       "      <td>3</td>\n",
       "    </tr>\n",
       "  </tbody>\n",
       "</table>\n",
       "</div>"
      ],
      "text/plain": [
       "   Sno        Date     Time State/UnionTerritory ConfirmedIndianNational  \\\n",
       "0    1  2020-01-30  6:00 PM               Kerala                       1   \n",
       "1    2  2020-01-31  6:00 PM               Kerala                       1   \n",
       "2    3  2020-02-01  6:00 PM               Kerala                       2   \n",
       "3    4  2020-02-02  6:00 PM               Kerala                       3   \n",
       "4    5  2020-02-03  6:00 PM               Kerala                       3   \n",
       "\n",
       "  ConfirmedForeignNational  Cured  Deaths  Confirmed  \n",
       "0                        0      0       0          1  \n",
       "1                        0      0       0          1  \n",
       "2                        0      0       0          2  \n",
       "3                        0      0       0          3  \n",
       "4                        0      0       0          3  "
      ]
     },
     "execution_count": 3,
     "metadata": {},
     "output_type": "execute_result"
    }
   ],
   "source": [
    "data.head()"
   ]
  },
  {
   "cell_type": "markdown",
   "id": "c59bed9e",
   "metadata": {},
   "source": [
    "Checking if Data-Felids are Null"
   ]
  },
  {
   "cell_type": "code",
   "execution_count": 4,
   "id": "88d129a8",
   "metadata": {},
   "outputs": [
    {
     "data": {
      "text/plain": [
       "Sno                         0\n",
       "Date                        0\n",
       "Time                        0\n",
       "State/UnionTerritory        0\n",
       "ConfirmedIndianNational     0\n",
       "ConfirmedForeignNational    0\n",
       "Cured                       0\n",
       "Deaths                      0\n",
       "Confirmed                   0\n",
       "dtype: int64"
      ]
     },
     "execution_count": 4,
     "metadata": {},
     "output_type": "execute_result"
    }
   ],
   "source": [
    "data.isnull().sum()"
   ]
  },
  {
   "cell_type": "markdown",
   "id": "62b4b66e",
   "metadata": {},
   "source": [
    "Discription of data"
   ]
  },
  {
   "cell_type": "code",
   "execution_count": 5,
   "id": "1f1a9d65",
   "metadata": {},
   "outputs": [
    {
     "data": {
      "text/html": [
       "<div>\n",
       "<style scoped>\n",
       "    .dataframe tbody tr th:only-of-type {\n",
       "        vertical-align: middle;\n",
       "    }\n",
       "\n",
       "    .dataframe tbody tr th {\n",
       "        vertical-align: top;\n",
       "    }\n",
       "\n",
       "    .dataframe thead th {\n",
       "        text-align: right;\n",
       "    }\n",
       "</style>\n",
       "<table border=\"1\" class=\"dataframe\">\n",
       "  <thead>\n",
       "    <tr style=\"text-align: right;\">\n",
       "      <th></th>\n",
       "      <th>Sno</th>\n",
       "      <th>Cured</th>\n",
       "      <th>Deaths</th>\n",
       "      <th>Confirmed</th>\n",
       "    </tr>\n",
       "  </thead>\n",
       "  <tbody>\n",
       "    <tr>\n",
       "      <th>count</th>\n",
       "      <td>18110.000000</td>\n",
       "      <td>1.811000e+04</td>\n",
       "      <td>18110.000000</td>\n",
       "      <td>1.811000e+04</td>\n",
       "    </tr>\n",
       "    <tr>\n",
       "      <th>mean</th>\n",
       "      <td>9055.500000</td>\n",
       "      <td>2.786375e+05</td>\n",
       "      <td>4052.402264</td>\n",
       "      <td>3.010314e+05</td>\n",
       "    </tr>\n",
       "    <tr>\n",
       "      <th>std</th>\n",
       "      <td>5228.051023</td>\n",
       "      <td>6.148909e+05</td>\n",
       "      <td>10919.076411</td>\n",
       "      <td>6.561489e+05</td>\n",
       "    </tr>\n",
       "    <tr>\n",
       "      <th>min</th>\n",
       "      <td>1.000000</td>\n",
       "      <td>0.000000e+00</td>\n",
       "      <td>0.000000</td>\n",
       "      <td>0.000000e+00</td>\n",
       "    </tr>\n",
       "    <tr>\n",
       "      <th>25%</th>\n",
       "      <td>4528.250000</td>\n",
       "      <td>3.360250e+03</td>\n",
       "      <td>32.000000</td>\n",
       "      <td>4.376750e+03</td>\n",
       "    </tr>\n",
       "    <tr>\n",
       "      <th>50%</th>\n",
       "      <td>9055.500000</td>\n",
       "      <td>3.336400e+04</td>\n",
       "      <td>588.000000</td>\n",
       "      <td>3.977350e+04</td>\n",
       "    </tr>\n",
       "    <tr>\n",
       "      <th>75%</th>\n",
       "      <td>13582.750000</td>\n",
       "      <td>2.788698e+05</td>\n",
       "      <td>3643.750000</td>\n",
       "      <td>3.001498e+05</td>\n",
       "    </tr>\n",
       "    <tr>\n",
       "      <th>max</th>\n",
       "      <td>18110.000000</td>\n",
       "      <td>6.159676e+06</td>\n",
       "      <td>134201.000000</td>\n",
       "      <td>6.363442e+06</td>\n",
       "    </tr>\n",
       "  </tbody>\n",
       "</table>\n",
       "</div>"
      ],
      "text/plain": [
       "                Sno         Cured         Deaths     Confirmed\n",
       "count  18110.000000  1.811000e+04   18110.000000  1.811000e+04\n",
       "mean    9055.500000  2.786375e+05    4052.402264  3.010314e+05\n",
       "std     5228.051023  6.148909e+05   10919.076411  6.561489e+05\n",
       "min        1.000000  0.000000e+00       0.000000  0.000000e+00\n",
       "25%     4528.250000  3.360250e+03      32.000000  4.376750e+03\n",
       "50%     9055.500000  3.336400e+04     588.000000  3.977350e+04\n",
       "75%    13582.750000  2.788698e+05    3643.750000  3.001498e+05\n",
       "max    18110.000000  6.159676e+06  134201.000000  6.363442e+06"
      ]
     },
     "execution_count": 5,
     "metadata": {},
     "output_type": "execute_result"
    }
   ],
   "source": [
    "data.describe()"
   ]
  },
  {
   "cell_type": "markdown",
   "id": "5bbf8e4e",
   "metadata": {},
   "source": [
    "Checking Information & Data-types of Coulumns"
   ]
  },
  {
   "cell_type": "code",
   "execution_count": 6,
   "id": "5f534724",
   "metadata": {},
   "outputs": [
    {
     "name": "stdout",
     "output_type": "stream",
     "text": [
      "<class 'pandas.core.frame.DataFrame'>\n",
      "RangeIndex: 18110 entries, 0 to 18109\n",
      "Data columns (total 9 columns):\n",
      " #   Column                    Non-Null Count  Dtype \n",
      "---  ------                    --------------  ----- \n",
      " 0   Sno                       18110 non-null  int64 \n",
      " 1   Date                      18110 non-null  object\n",
      " 2   Time                      18110 non-null  object\n",
      " 3   State/UnionTerritory      18110 non-null  object\n",
      " 4   ConfirmedIndianNational   18110 non-null  object\n",
      " 5   ConfirmedForeignNational  18110 non-null  object\n",
      " 6   Cured                     18110 non-null  int64 \n",
      " 7   Deaths                    18110 non-null  int64 \n",
      " 8   Confirmed                 18110 non-null  int64 \n",
      "dtypes: int64(4), object(5)\n",
      "memory usage: 1.2+ MB\n"
     ]
    }
   ],
   "source": [
    "data.info()"
   ]
  },
  {
   "cell_type": "markdown",
   "id": "71ffe260",
   "metadata": {},
   "source": [
    "Ploting confirmed cases on all dates acrosses all states that represents the mean of all states using Package Seaborn\n"
   ]
  },
  {
   "cell_type": "code",
   "execution_count": 7,
   "id": "d83f4e7d",
   "metadata": {},
   "outputs": [
    {
     "data": {
      "text/plain": [
       "<seaborn.axisgrid.FacetGrid at 0x1975e457b50>"
      ]
     },
     "execution_count": 7,
     "metadata": {},
     "output_type": "execute_result"
    },
    {
     "data": {
      "image/png": "[encoded data removed]",
      "text/plain": [
       "<Figure size 900x360 with 1 Axes>"
      ]
     },
     "metadata": {
      "needs_background": "light"
     },
     "output_type": "display_data"
    }
   ],
   "source": [
    "sns.relplot(x=\"Date\",y=\"Confirmed\",data=data,kind='line', aspect=20/8)"
   ]
  },
  {
   "cell_type": "markdown",
   "id": "ec6f8687",
   "metadata": {},
   "source": [
    "Calculating dates list and increasing no. of cases day by day"
   ]
  },
  {
   "cell_type": "code",
   "execution_count": 8,
   "id": "15c12ced",
   "metadata": {},
   "outputs": [],
   "source": [
    "date=list(data['Date'].value_counts().index)\n",
    "date=sorted(date)\n",
    "cases=[]\n",
    "for i in range(len(date)):\n",
    "    c=0\n",
    "    for j in range(len(data['Date'])):\n",
    "        if date[i]==data['Date'][j]:\n",
    "            c+=data['Confirmed'][j]\n",
    "    cases.append(c)"
   ]
  },
  {
   "cell_type": "markdown",
   "id": "2609786f",
   "metadata": {},
   "source": [
    "Calculating no. of cases reported each day"
   ]
  },
  {
   "cell_type": "code",
   "execution_count": 9,
   "id": "caa67c68",
   "metadata": {},
   "outputs": [],
   "source": [
    "case=[]\n",
    "case.append(cases[0])\n",
    "for i in range(1,len(date)):\n",
    "    case.append(cases[i]-cases[i-1])"
   ]
  },
  {
   "cell_type": "markdown",
   "id": "1746ced4",
   "metadata": {},
   "source": [
    "Cases increasing pattern from all states"
   ]
  },
  {
   "cell_type": "code",
   "execution_count": 10,
   "id": "a60225f3",
   "metadata": {},
   "outputs": [
    {
     "data": {
      "text/plain": [
       "<seaborn.axisgrid.FacetGrid at 0x1975f297b50>"
      ]
     },
     "execution_count": 10,
     "metadata": {},
     "output_type": "execute_result"
    },
    {
     "data": {
      "image/png": "[encoded data removed]",
      "text/plain": [
       "<Figure size 900x360 with 1 Axes>"
      ]
     },
     "metadata": {
      "needs_background": "light"
     },
     "output_type": "display_data"
    }
   ],
   "source": [
    "sns.relplot(x=date,y=cases, kind='line', aspect=20/8)"
   ]
  },
  {
   "cell_type": "markdown",
   "id": "fa9df42c",
   "metadata": {},
   "source": [
    "Every day cases plot"
   ]
  },
  {
   "cell_type": "code",
   "execution_count": 11,
   "id": "c991e29d",
   "metadata": {},
   "outputs": [
    {
     "data": {
      "text/plain": [
       "<seaborn.axisgrid.FacetGrid at 0x1975f2979a0>"
      ]
     },
     "execution_count": 11,
     "metadata": {},
     "output_type": "execute_result"
    },
    {
     "data": {
      "image/png": "[encoded data removed]",
      "text/plain": [
       "<Figure size 900x360 with 1 Axes>"
      ]
     },
     "metadata": {
      "needs_background": "light"
     },
     "output_type": "display_data"
    }
   ],
   "source": [
    "sns.relplot(x=date,y=case, kind='line', aspect=20/8)"
   ]
  },
  {
   "cell_type": "markdown",
   "id": "e84b247e",
   "metadata": {},
   "source": [
    "Creating interactive function for selecting plots to be displayed each State"
   ]
  },
  {
   "cell_type": "code",
   "execution_count": 12,
   "id": "c79c4d19",
   "metadata": {},
   "outputs": [
    {
     "data": {
      "application/vnd.jupyter.widget-view+json": {
       "model_id": "5ca1be64c7494c61b3dc8a93e071270c",
       "version_major": 2,
       "version_minor": 0
      },
      "text/plain": [
       "interactive(children=(Dropdown(description='state', options=('All States', 'Kerala', 'Delhi', 'Rajasthan', 'Ha…"
      ]
     },
     "metadata": {},
     "output_type": "display_data"
    }
   ],
   "source": [
    "@interact\n",
    "\n",
    "def compare(state=['All States','Kerala', 'Delhi', 'Rajasthan', 'Haryana', 'Uttar Pradesh',\n",
    "       'Tamil Nadu', 'Ladakh', 'Jammu and Kashmir', 'Punjab', 'Maharashtra',\n",
    "       'Karnataka', 'Andhra Pradesh', 'Uttarakhand', 'Odisha', 'Puducherry',\n",
    "       'West Bengal', 'Chandigarh', 'Chhattisgarh', 'Gujarat',\n",
    "       'Madhya Pradesh', 'Himachal Pradesh', 'Bihar', 'Manipur', 'Mizoram',\n",
    "       'Goa', 'Andaman and Nicobar Islands', 'Assam', 'Jharkhand',\n",
    "       'Arunachal Pradesh', 'Tripura', 'Meghalaya',\n",
    "       'Dadra and Nagar Haveli and Daman and Diu', 'Nagaland', 'Sikkim',\n",
    "       'Telengana', 'Lakshadweep', 'Telangana',\n",
    "       'Dadra and Nagar Haveli', 'Bihar****', 'Daman & Diu', 'Maharashtra***',\n",
    "       'Himanchal Pradesh', 'Karanataka', 'Madhya Pradesh***',\n",
    "       'Cases being reassigned to states', 'Unassigned']):\n",
    "    if state=='All States':\n",
    "        date=list(data['Date'].value_counts().index)\n",
    "        date=sorted(date)\n",
    "        cases=[]\n",
    "        for i in range(len(date)):\n",
    "            c=0\n",
    "            for j in range(len(data['Date'])):\n",
    "                if date[i]==data['Date'][j]:\n",
    "                    c+=data['Confirmed'][j]\n",
    "            cases.append(c)\n",
    "        print(\"          All States       \")\n",
    "        sns.relplot(x=date,y=cases, kind='line', aspect=20/8)\n",
    "    else:\n",
    "        x=data[data['State/UnionTerritory']==state]\n",
    "        print(\"          \",state,\"       \")\n",
    "        sns.relplot(x=x['Date'],y=x['Confirmed'], kind='line', aspect=20/8)"
   ]
  },
  {
   "cell_type": "markdown",
   "id": "e2d8454d",
   "metadata": {},
   "source": [
    "Creating interactive function for selecting plots to be displayed each State for changing everyday pattern"
   ]
  },
  {
   "cell_type": "code",
   "execution_count": 15,
   "id": "1d2b8b92",
   "metadata": {},
   "outputs": [
    {
     "data": {
      "application/vnd.jupyter.widget-view+json": {
       "model_id": "551cd22ccbc54cceb6a66cac9750b9cd",
       "version_major": 2,
       "version_minor": 0
      },
      "text/plain": [
       "interactive(children=(Dropdown(description='state', options=('All States', 'Kerala', 'Delhi', 'Rajasthan', 'Ha…"
      ]
     },
     "metadata": {},
     "output_type": "display_data"
    }
   ],
   "source": [
    "@interact\n",
    "\n",
    "def compare(state=['All States','Kerala', 'Delhi', 'Rajasthan', 'Haryana', 'Uttar Pradesh',\n",
    "       'Tamil Nadu', 'Ladakh', 'Jammu and Kashmir', 'Punjab', 'Maharashtra',\n",
    "       'Karnataka', 'Andhra Pradesh', 'Uttarakhand', 'Odisha', 'Puducherry',\n",
    "       'West Bengal', 'Chandigarh', 'Chhattisgarh', 'Gujarat',\n",
    "       'Madhya Pradesh', 'Himachal Pradesh', 'Bihar', 'Manipur', 'Mizoram',\n",
    "       'Goa', 'Andaman and Nicobar Islands', 'Assam', 'Jharkhand',\n",
    "       'Arunachal Pradesh', 'Tripura', 'Meghalaya',\n",
    "       'Dadra and Nagar Haveli and Daman and Diu', 'Nagaland', 'Sikkim',\n",
    "       'Telengana', 'Lakshadweep', 'Telangana',\n",
    "       'Dadra and Nagar Haveli', 'Bihar****', 'Daman & Diu', 'Maharashtra***',\n",
    "       'Himanchal Pradesh', 'Karanataka', 'Madhya Pradesh***',\n",
    "       'Cases being reassigned to states', 'Unassigned']):\n",
    "    if state=='All States':\n",
    "        date=list(data['Date'].value_counts().index)\n",
    "        date=sorted(date)\n",
    "        cases=[]\n",
    "        for i in range(len(date)):\n",
    "            c=0\n",
    "            for j in range(len(data['Date'])):\n",
    "                if date[i]==data['Date'][j]:\n",
    "                    c+=data['Confirmed'][j]\n",
    "            cases.append(c)\n",
    "        case=[]\n",
    "        case.append(cases[0])\n",
    "        for i in range(1,len(date)):\n",
    "            case.append(cases[i]-cases[i-1])\n",
    "        print(\"          All States       \")\n",
    "        sns.relplot(x=date,y=case, kind='line', aspect=20/8)\n",
    "    else:\n",
    "        x=data[data['State/UnionTerritory']==state]\n",
    "        print(\"          \",state,\"       \")\n",
    "        date=list(x['Date'].value_counts().index)\n",
    "        date=sorted(date)\n",
    "        cases=[]\n",
    "        for i in list(x['Confirmed']):\n",
    "            cases.append(i)\n",
    "        case=[]\n",
    "        case.append(cases[0])\n",
    "        for i in range(1,len(date)):\n",
    "            case.append(cases[i]-cases[i-1])\n",
    "        sns.relplot(x=date,y=case, kind='line', aspect=20/8)"
   ]
  },
  {
   "cell_type": "code",
   "execution_count": null,
   "id": "a2a1c380",
   "metadata": {},
   "outputs": [],
   "source": [
    " "
   ]
  }
 ],
 "metadata": {
  "kernelspec": {
   "display_name": "Python 3",
   "language": "python",
   "name": "python3"
  },
  "language_info": {
   "codemirror_mode": {
    "name": "ipython",
    "version": 3
   },
   "file_extension": ".py",
   "mimetype": "text/x-python",
   "name": "python",
   "nbconvert_exporter": "python",
   "pygments_lexer": "ipython3",
   "version": "3.8.8"
  }
 },
 "nbformat": 4,
 "nbformat_minor": 5
}
